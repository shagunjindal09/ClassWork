{
  "nbformat": 4,
  "nbformat_minor": 0,
  "metadata": {
    "colab": {
      "provenance": [],
      "collapsed_sections": [],
      "authorship_tag": "ABX9TyNNbynJmT3TApC+HsJ0Zf8P",
      "include_colab_link": true
    },
    "kernelspec": {
      "name": "python3",
      "display_name": "Python 3"
    },
    "language_info": {
      "name": "python"
    }
  },
  "cells": [
    {
      "cell_type": "markdown",
      "metadata": {
        "id": "view-in-github",
        "colab_type": "text"
      },
      "source": [
        "<a href=\"https://colab.research.google.com/github/shagunjindal09/ClassWork/blob/main/Copy_of_Untitled1.ipynb\" target=\"_parent\"><img src=\"https://colab.research.google.com/assets/colab-badge.svg\" alt=\"Open In Colab\"/></a>"
      ]
    },
    {
      "cell_type": "code",
      "execution_count": null,
      "metadata": {
        "colab": {
          "base_uri": "https://localhost:8080/"
        },
        "id": "w0jm_xMCJ_bM",
        "outputId": "7974d67d-da7b-4a97-e481-0b7f2644f91f"
      },
      "outputs": [
        {
          "output_type": "stream",
          "name": "stdout",
          "text": [
            "True\n"
          ]
        }
      ],
      "source": [
        "str=\"hey its shagun\"\n",
        "print(\"its\" in str)"
      ]
    },
    {
      "cell_type": "code",
      "source": [
        "str=\"hey its realshagun\"\n",
        "print(len(str))"
      ],
      "metadata": {
        "colab": {
          "base_uri": "https://localhost:8080/"
        },
        "id": "qeG8dx3QLK6q",
        "outputId": "8115fae5-efae-4e3a-9491-af6a35bde257"
      },
      "execution_count": null,
      "outputs": [
        {
          "output_type": "stream",
          "name": "stdout",
          "text": [
            "18\n"
          ]
        }
      ]
    },
    {
      "cell_type": "code",
      "source": [
        "b=\"hello world\"\n",
        "print(b[-5:-2])"
      ],
      "metadata": {
        "colab": {
          "base_uri": "https://localhost:8080/"
        },
        "id": "ObrVahFMLR5G",
        "outputId": "4e31ecea-7c35-4c27-b1df-ea7bb9bd019c"
      },
      "execution_count": null,
      "outputs": [
        {
          "output_type": "stream",
          "name": "stdout",
          "text": [
            "wor\n"
          ]
        }
      ]
    },
    {
      "cell_type": "code",
      "source": [
        "a=\"shagun\"\n",
        "print(a.upper())"
      ],
      "metadata": {
        "colab": {
          "base_uri": "https://localhost:8080/"
        },
        "id": "HHoH2Nv4Lg0E",
        "outputId": "f6b9123b-bee4-4b1c-e51c-2cdd6db6ed98"
      },
      "execution_count": null,
      "outputs": [
        {
          "output_type": "stream",
          "name": "stdout",
          "text": [
            "SHAGUN\n"
          ]
        }
      ]
    },
    {
      "cell_type": "code",
      "source": [
        "a=\"hello Shagun\"\n",
        "print(a.strip())"
      ],
      "metadata": {
        "colab": {
          "base_uri": "https://localhost:8080/"
        },
        "id": "kR5tWKc8LxFk",
        "outputId": "da6671e6-1314-41cc-bae7-582122bf9648"
      },
      "execution_count": null,
      "outputs": [
        {
          "output_type": "stream",
          "name": "stdout",
          "text": [
            "hello Shagun\n"
          ]
        }
      ]
    },
    {
      "cell_type": "code",
      "source": [
        "id=18\n",
        "txt=\"my name is shagun and my id is {}\"\n",
        "print(txt.format(id))"
      ],
      "metadata": {
        "colab": {
          "base_uri": "https://localhost:8080/"
        },
        "id": "qdQeydEXL_od",
        "outputId": "9164c7d9-7201-41ed-98fd-9c2879e18d18"
      },
      "execution_count": null,
      "outputs": [
        {
          "output_type": "stream",
          "name": "stdout",
          "text": [
            "my name is shagun and my id is 18\n"
          ]
        }
      ]
    },
    {
      "cell_type": "code",
      "source": [
        "str=\"shagun\"\n",
        "print(str.capitalize())"
      ],
      "metadata": {
        "colab": {
          "base_uri": "https://localhost:8080/"
        },
        "id": "8VJo653vMXqd",
        "outputId": "57da5894-2de8-4bc9-c12c-ff80562645be"
      },
      "execution_count": null,
      "outputs": [
        {
          "output_type": "stream",
          "name": "stdout",
          "text": [
            "Shagun\n"
          ]
        }
      ]
    },
    {
      "cell_type": "code",
      "source": [
        "li=[\"shagun\",\"soumya\",\"sakshi\"]\n",
        "print(li[-3])"
      ],
      "metadata": {
        "colab": {
          "base_uri": "https://localhost:8080/"
        },
        "id": "dpGOXDVOMnjj",
        "outputId": "60d348eb-f09f-4be8-89f5-d03e765b9b40"
      },
      "execution_count": null,
      "outputs": [
        {
          "output_type": "stream",
          "name": "stdout",
          "text": [
            "shagun\n"
          ]
        }
      ]
    },
    {
      "cell_type": "code",
      "source": [
        "thislist=[\"shagun\",\"Sakshi\",\"Chinki\"]\n",
        "if \"shagun\" in thislist:\n",
        "  print(\"yes it is in list\")\n"
      ],
      "metadata": {
        "colab": {
          "base_uri": "https://localhost:8080/"
        },
        "id": "kqApZE32NiY3",
        "outputId": "5ecbd59d-e6ad-4eb2-b756-44fc6659cc9b"
      },
      "execution_count": null,
      "outputs": [
        {
          "output_type": "stream",
          "name": "stdout",
          "text": [
            "yes it is in list\n"
          ]
        }
      ]
    },
    {
      "cell_type": "code",
      "source": [
        "thislist=[\"shagun\",\"shaksh\",\"chinki\"]\n",
        "thislist[1:2]=[\"utkarsh\",\"father\"]\n",
        "print(thislist)"
      ],
      "metadata": {
        "colab": {
          "base_uri": "https://localhost:8080/"
        },
        "id": "Ws-MLzsnOCqm",
        "outputId": "8b1d204d-af19-4bba-9f52-5e28d7d58d27"
      },
      "execution_count": null,
      "outputs": [
        {
          "output_type": "stream",
          "name": "stdout",
          "text": [
            "['shagun', 'utkarsh', 'father', 'chinki']\n"
          ]
        }
      ]
    },
    {
      "cell_type": "code",
      "source": [],
      "metadata": {
        "id": "UMXtzgUHRICQ"
      },
      "execution_count": null,
      "outputs": []
    }
  ]
}