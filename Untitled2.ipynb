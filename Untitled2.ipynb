{
  "nbformat": 4,
  "nbformat_minor": 0,
  "metadata": {
    "colab": {
      "provenance": [],
      "authorship_tag": "ABX9TyOpJHHtdU4u9Dft+fjpbv7+",
      "include_colab_link": true
    },
    "kernelspec": {
      "name": "python3",
      "display_name": "Python 3"
    },
    "language_info": {
      "name": "python"
    }
  },
  "cells": [
    {
      "cell_type": "markdown",
      "metadata": {
        "id": "view-in-github",
        "colab_type": "text"
      },
      "source": [
        "<a href=\"https://colab.research.google.com/github/shagunjindal09/ClassWork/blob/main/Untitled2.ipynb\" target=\"_parent\"><img src=\"https://colab.research.google.com/assets/colab-badge.svg\" alt=\"Open In Colab\"/></a>"
      ]
    },
    {
      "cell_type": "code",
      "execution_count": 5,
      "metadata": {
        "colab": {
          "base_uri": "https://localhost:8080/"
        },
        "id": "mx3quusje4MH",
        "outputId": "95718b1a-4743-40a9-ce0f-b21fdd9e10e7"
      },
      "outputs": [
        {
          "output_type": "stream",
          "name": "stdout",
          "text": [
            "Hello Kate, Good morning!\n",
            "Hello Bruce, How do you do?\n"
          ]
        }
      ],
      "source": [
        "def greet(name, msg=\"Good morning!\"):\n",
        "\n",
        "    print(\"Hello\", name + ', ' + msg)\n",
        "\n",
        "\n",
        "greet(\"Kate\")\n",
        "greet(\"Bruce\", \"How do you do?\")\n"
      ]
    },
    {
      "cell_type": "code",
      "source": [
        "def greet(*names):\n",
        "  for name in names:\n",
        "    print(\"Hello\",name)\n",
        "greet(\"Shagun\",\"vanshika\",\"Soumya\")"
      ],
      "metadata": {
        "colab": {
          "base_uri": "https://localhost:8080/"
        },
        "id": "_eDSsYs7iIpn",
        "outputId": "b2fe213a-4b93-4eaa-f2a5-e121ecf78d0c"
      },
      "execution_count": 6,
      "outputs": [
        {
          "output_type": "stream",
          "name": "stdout",
          "text": [
            "Hello Shagun\n",
            "Hello vanshika\n",
            "Hello Soumya\n"
          ]
        }
      ]
    },
    {
      "cell_type": "code",
      "source": [
        "def my_function():\n",
        "  print(\"Hello Shagun\")\n",
        "my_function()"
      ],
      "metadata": {
        "colab": {
          "base_uri": "https://localhost:8080/"
        },
        "id": "W6DbPUzcjkTx",
        "outputId": "3a196ed4-a8c6-4022-b52f-b8c1fef3691a"
      },
      "execution_count": 8,
      "outputs": [
        {
          "output_type": "stream",
          "name": "stdout",
          "text": [
            "Hello Shagun\n"
          ]
        }
      ]
    },
    {
      "cell_type": "code",
      "source": [
        "def my_function(fname):\n",
        "  print(fname+\" Jindal\")\n",
        "my_function(\"shagun\")  \n"
      ],
      "metadata": {
        "colab": {
          "base_uri": "https://localhost:8080/"
        },
        "id": "gz5G94iTksr6",
        "outputId": "4664e854-c259-43d2-a6a7-24ddb4a1536f"
      },
      "execution_count": 10,
      "outputs": [
        {
          "output_type": "stream",
          "name": "stdout",
          "text": [
            "shagun Jindal\n"
          ]
        }
      ]
    },
    {
      "cell_type": "code",
      "source": [
        "def my_function(*kids):\n",
        "  print(\"hey its second turn:\"+ kids[2])\n",
        "my_function(\"Shagun\",\"Jindal\",\"Soumya\")"
      ],
      "metadata": {
        "colab": {
          "base_uri": "https://localhost:8080/"
        },
        "id": "ATryQLP4lJs3",
        "outputId": "4d58b0b8-9a8f-40d1-942e-8802fc4aad5c"
      },
      "execution_count": 12,
      "outputs": [
        {
          "output_type": "stream",
          "name": "stdout",
          "text": [
            "hey its second turn:Soumya\n"
          ]
        }
      ]
    },
    {
      "cell_type": "code",
      "source": [
        "def my_func(**kid):\n",
        "  print(\"hey its :\" +kid[\"lname\"])\n",
        "my_func(fname=\"Shagun\",lname=\"Jindal\")\n"
      ],
      "metadata": {
        "colab": {
          "base_uri": "https://localhost:8080/"
        },
        "id": "5uTvX7ZElr9n",
        "outputId": "304eb8bf-2e7a-47d7-dbe4-c7a6bfc60c17"
      },
      "execution_count": 13,
      "outputs": [
        {
          "output_type": "stream",
          "name": "stdout",
          "text": [
            "hey its :Jindal\n"
          ]
        }
      ]
    },
    {
      "cell_type": "code",
      "source": [
        "def my_function(country=\" India\"):\n",
        "    print(\"My country is:\"+country)\n",
        "my_function(\"China\")    "
      ],
      "metadata": {
        "colab": {
          "base_uri": "https://localhost:8080/"
        },
        "id": "XwFoVSMBm4w8",
        "outputId": "09abbd60-aa30-45a5-d4bc-65d16252b3ff"
      },
      "execution_count": 14,
      "outputs": [
        {
          "output_type": "stream",
          "name": "stdout",
          "text": [
            "My country is:China\n"
          ]
        }
      ]
    },
    {
      "cell_type": "code",
      "source": [
        "def my_func(x):\n",
        "  return x*5\n",
        "print(my_func(3))\n",
        "print(my_func(5))\n",
        "print(my_func(7))\n"
      ],
      "metadata": {
        "colab": {
          "base_uri": "https://localhost:8080/"
        },
        "id": "T3hE3dCdpA_t",
        "outputId": "724bbddb-2ddc-4c3a-87fc-b510df5b304e"
      },
      "execution_count": 15,
      "outputs": [
        {
          "output_type": "stream",
          "name": "stdout",
          "text": [
            "15\n",
            "25\n",
            "35\n"
          ]
        }
      ]
    },
    {
      "cell_type": "code",
      "source": [],
      "metadata": {
        "id": "hFXukSVPpQBL"
      },
      "execution_count": null,
      "outputs": []
    }
  ]
}